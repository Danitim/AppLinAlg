{
 "cells": [
  {
   "cell_type": "code",
   "execution_count": 1,
   "metadata": {},
   "outputs": [],
   "source": [
    "import numpy as np\n",
    "from task2 import inverse_matrix"
   ]
  },
  {
   "cell_type": "code",
   "execution_count": 2,
   "metadata": {},
   "outputs": [
    {
     "name": "stdout",
     "output_type": "stream",
     "text": [
      "Найденная обратная матрица A^(-1):\n",
      "[[ 0.3        -0.03333333  0.16666667]\n",
      " [-0.1         0.23333333 -0.16666667]\n",
      " [-0.2         0.13333333  0.33333333]]\n",
      "Проверка A * A^(-1):\n",
      "[[ 1.00000000e+00  0.00000000e+00  5.55111512e-17]\n",
      " [-5.55111512e-17  1.00000000e+00  1.11022302e-16]\n",
      " [ 1.11022302e-16  0.00000000e+00  1.00000000e+00]]\n"
     ]
    }
   ],
   "source": [
    "# Пример использования\n",
    "A = np.array([[3, 1, -1], [2, 4, 1], [1, -1, 2]], dtype=float)\n",
    "A_inv = inverse_matrix(A)\n",
    "verification = np.dot(A, A_inv)\n",
    "\n",
    "print(\"Найденная обратная матрица A^(-1):\")\n",
    "print(A_inv)\n",
    "print(\"Проверка A * A^(-1):\")\n",
    "print(verification)"
   ]
  }
 ],
 "metadata": {
  "kernelspec": {
   "display_name": "cvr",
   "language": "python",
   "name": "python3"
  },
  "language_info": {
   "codemirror_mode": {
    "name": "ipython",
    "version": 3
   },
   "file_extension": ".py",
   "mimetype": "text/x-python",
   "name": "python",
   "nbconvert_exporter": "python",
   "pygments_lexer": "ipython3",
   "version": "3.8.18"
  }
 },
 "nbformat": 4,
 "nbformat_minor": 2
}
