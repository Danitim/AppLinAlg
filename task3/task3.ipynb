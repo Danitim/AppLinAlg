{
 "cells": [
  {
   "cell_type": "code",
   "execution_count": 1,
   "metadata": {},
   "outputs": [],
   "source": [
    "import numpy as np\n",
    "from task3 import ldm_decomposition"
   ]
  },
  {
   "cell_type": "code",
   "execution_count": 2,
   "metadata": {},
   "outputs": [],
   "source": [
    "def is_positive_definite(A):\n",
    "    _, D, _ = ldm_decomposition(A)\n",
    "    return np.all(np.diag(D) > 0)"
   ]
  },
  {
   "cell_type": "code",
   "execution_count": 8,
   "metadata": {},
   "outputs": [
    {
     "name": "stdout",
     "output_type": "stream",
     "text": [
      "L:\n",
      "[[1.         0.         0.        ]\n",
      " [0.5        1.         0.        ]\n",
      " [0.5        0.33333333 1.        ]]\n",
      "D:\n",
      "[[4. 0. 0.]\n",
      " [0. 9. 0.]\n",
      " [0. 0. 4.]]\n",
      "M:\n",
      "[[1.         0.         0.        ]\n",
      " [0.5        1.         0.        ]\n",
      " [0.5        0.33333333 1.        ]]\n",
      "||LDM^T - A||2:\n",
      "0.0\n",
      "Положительно определённая?  True\n"
     ]
    }
   ],
   "source": [
    "# Пример\n",
    "A = np.array([[4, 2, 2],\n",
    "              [2, 10, 4],\n",
    "              [2, 4, 6]], dtype=float)\n",
    "\n",
    "L, D, M = ldm_decomposition(A)\n",
    "\n",
    "print(\"L:\")\n",
    "print(L)\n",
    "print(\"D:\")\n",
    "print(D)\n",
    "print(\"M:\")\n",
    "print(M)\n",
    "print(\"||LDM^T - A||2:\")\n",
    "print(np.linalg.norm(L @ D @ M.T - A, 1))\n",
    "print(\"Положительно определённая? \", is_positive_definite(A))"
   ]
  }
 ],
 "metadata": {
  "kernelspec": {
   "display_name": "cvr",
   "language": "python",
   "name": "python3"
  },
  "language_info": {
   "codemirror_mode": {
    "name": "ipython",
    "version": 3
   },
   "file_extension": ".py",
   "mimetype": "text/x-python",
   "name": "python",
   "nbconvert_exporter": "python",
   "pygments_lexer": "ipython3",
   "version": "3.8.18"
  }
 },
 "nbformat": 4,
 "nbformat_minor": 2
}
