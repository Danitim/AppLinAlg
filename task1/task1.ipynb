{
 "cells": [
  {
   "cell_type": "code",
   "execution_count": 3,
   "metadata": {},
   "outputs": [],
   "source": [
    "import numpy as np\n",
    "from task1 import solve_linear_system"
   ]
  },
  {
   "cell_type": "code",
   "execution_count": null,
   "metadata": {},
   "outputs": [
    {
     "name": "stdout",
     "output_type": "stream",
     "text": [
      "Найденное решение x: [ 1.66666667 -0.66666667  0.33333333]\n",
      "Проверка Ax - b: [-4.4408921e-16  4.4408921e-16  4.4408921e-16]\n"
     ]
    }
   ],
   "source": [
    "# Пример использования\n",
    "A = np.array([[3, 1, -1], [2, 4, 1], [1, -1, 2]], dtype=float)\n",
    "b = np.array([4, 1, 3], dtype=float)\n",
    "\n",
    "solution, verification = solve_linear_system(A, b)\n",
    "print(\"Найденное решение x:\", solution)\n",
    "print(\"Проверка Ax - b:\", verification)"
   ]
  }
 ],
 "metadata": {
  "kernelspec": {
   "display_name": "cvr",
   "language": "python",
   "name": "python3"
  },
  "language_info": {
   "codemirror_mode": {
    "name": "ipython",
    "version": 3
   },
   "file_extension": ".py",
   "mimetype": "text/x-python",
   "name": "python",
   "nbconvert_exporter": "python",
   "pygments_lexer": "ipython3",
   "version": "3.8.18"
  }
 },
 "nbformat": 4,
 "nbformat_minor": 2
}
